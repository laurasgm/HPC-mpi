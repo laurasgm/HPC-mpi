{
 "cells": [
  {
   "cell_type": "markdown",
   "metadata": {},
   "source": [
    "# MULTIPLICACION DE MATRICES CON MPI"
   ]
  },
  {
   "cell_type": "markdown",
   "metadata": {},
   "source": [
    "Laura Sophia González Montoya - HPC UTP "
   ]
  },
  {
   "cell_type": "markdown",
   "metadata": {},
   "source": [
    "## Especificaciones de maquina\n",
    "Encontradas en los archivos pc_info.txt y gpu_info.txt dentro del repositorio"
   ]
  },
  {
   "cell_type": "markdown",
   "metadata": {},
   "source": [
    "# Desarrollo"
   ]
  },
  {
   "cell_type": "markdown",
   "metadata": {},
   "source": [
    "La manera en la que se abordo el problema es la siguiente"
   ]
  },
  {
   "cell_type": "markdown",
   "metadata": {},
   "source": [
    "## El cluster"
   ]
  },
  {
   "cell_type": "markdown",
   "metadata": {},
   "source": [
    "Se contaba con un cluster dentro de la plataforma de AWS, el cual fue montado en dias anteriores, el cual seria nuestro escenario para la implementacion del mpi y el paralelismo de los procesos dentro de una multiplicacion de matrices"
   ]
  },
  {
   "cell_type": "markdown",
   "metadata": {},
   "source": [
    "Las especificaciones de las maquinas utilizadas estan en los archivos de texto adjuntados dentro de este trabajo y mencionados anteriormente"
   ]
  },
  {
   "cell_type": "markdown",
   "metadata": {},
   "source": [
    "## Servidor de archivos NFS"
   ]
  },
  {
   "cell_type": "markdown",
   "metadata": {},
   "source": [
    "### ¿Que es NFS?"
   ]
  },
  {
   "cell_type": "markdown",
   "metadata": {},
   "source": [
    "\"NFS (sistema de archivos de red: «Network File System») es un protocolo que permite acceso remoto a un sistema de archivos a través de la red. Todos los sistemas Unix pueden trabajar con este protocolo; cuando se involucran sistemas Windows, debe utilizar Samba en su lugar.\" (https://debian-handbook.info/browse/es-ES/stable/sect.nfs-file-server.html)"
   ]
  },
  {
   "cell_type": "markdown",
   "metadata": {},
   "source": [
    "### ¿Cómo se utilizó?"
   ]
  },
  {
   "cell_type": "markdown",
   "metadata": {},
   "source": [
    "El principal objetivo de este protocolo era el de hacer un depliegue de las matrices dentro de un archivo .csv desde el head a todas las maquinas, tanto de las matrices de entrada como la matriz resultante  "
   ]
  },
  {
   "cell_type": "markdown",
   "metadata": {},
   "source": [
    "Lo que se realizo fue un despliegue de la carpeta principal llamada \"HPC-mpi\" ubicada en el head a traves del protocolo, esta carpeta contenia codigo, ejecutables y por supuesto las matrices"
   ]
  },
  {
   "cell_type": "markdown",
   "metadata": {},
   "source": [
    "### ¿Como se generaron las matrices de entrada?"
   ]
  },
  {
   "cell_type": "markdown",
   "metadata": {},
   "source": [
    "Se creó un codigo llamado \"generador.cpp\" el cual implementando la libreria \"#include <fstream>\" permite generar matrices de diferentes tamaños y guardarlas en un archivo .csv "
   ]
  },
  {
   "cell_type": "markdown",
   "metadata": {},
   "source": [
    "## Y entonces... ¿Como se abordo el problema?"
   ]
  },
  {
   "cell_type": "markdown",
   "metadata": {},
   "source": [
    "Bueno, como ya se mencionó anteriormente. Se hizo despliegue de las matrices gracias al protocolo NFS, pero, ¿Con que fin? se estarán preguntando"
   ]
  },
  {
   "cell_type": "markdown",
   "metadata": {},
   "source": [
    "Sin este sistema lo que se hubiera tenido que hacer era mandar cada fila de la matriz por MPI \n",
    "y volver a traer toda la fila resultante, un proceso un tanto pesado sobre todo cuando nuestro fin es el de la optimización.\n",
    "\n",
    "Gracias despliegue solo tenemoss que mandar la posicion de la fila dentro de la matriz a la cual queremos acceder y buscarla dentro del archivo .csv, evitandonos todo ese paso de mensajes tan costoso"
   ]
  },
  {
   "cell_type": "markdown",
   "metadata": {},
   "source": [
    "### ¿Como se realizo la multiplicación?"
   ]
  },
  {
   "cell_type": "markdown",
   "metadata": {},
   "source": [
    "Se le realizo la transpuesta a una de las matrices, con el fin de no multiplicar filas x columnas, sino filas x filas"
   ]
  },
  {
   "cell_type": "markdown",
   "metadata": {},
   "source": [
    "la idea es mandar la primera fila de la matrizA por ejemplo y que esta multiplicandose con las filas de la MatrizB sacaran como resultado la primera fila de la matriz resultante. De esta manera a cada nodo se le asigna el trabajo de sacar una fila resultante "
   ]
  },
  {
   "cell_type": "markdown",
   "metadata": {},
   "source": [
    "Nota: El nodo head solo se le asigna como tarea sacar la primera fila de la matriz, las demas se reparten entre los nodos trabajadores"
   ]
  },
  {
   "cell_type": "markdown",
   "metadata": {},
   "source": [
    "![idea.jpeg](idea.jpeg)"
   ]
  },
  {
   "cell_type": "markdown",
   "metadata": {},
   "source": [
    "## Que sucedio a la hora de la implementacion"
   ]
  },
  {
   "cell_type": "markdown",
   "metadata": {},
   "source": [
    "En primer lugar, no se logró guardar la matriz resultante dentro de un archivo .csv puesto que se sobreescribia cada vez que un nodo worker realizaba una multiplizacion y la almacenaba. Pero para probar que el codigo corria correctamenta se mostro por consola el resultado que sacaba cada nodo y se verificaba que estuvieran correctos. Se puede ver mas a detalle en la siguiente imagen."
   ]
  },
  {
   "cell_type": "markdown",
   "metadata": {},
   "source": [
    "![mm.png](mm.png)"
   ]
  },
  {
   "cell_type": "markdown",
   "metadata": {},
   "source": [
    "Una vez corroborado de que el código corriera de manera correcta, se empezo a realizar la multiplicacion de distintos tamaños y sus tiempos de ejecucion "
   ]
  },
  {
   "cell_type": "markdown",
   "metadata": {},
   "source": [
    "Se inicio a tomar los tiempos con un tamaño de matriz de 100 lo cual produjo un tiempo promedio de 8.58857, lo cual es muy elevado considerando el tamaño de la matriz,Se continuo con una matriz de 250 con un tiempo de 250,54.8644.\n",
    "De aqui en adelante salía un error por tiempo de espera excedido o algo por el estilo\n"
   ]
  },
  {
   "cell_type": "markdown",
   "metadata": {},
   "source": [
    "El siguiente error me salío al correr la matriz de 500 "
   ]
  },
  {
   "cell_type": "markdown",
   "metadata": {},
   "source": [
    "![error.png](error.png)"
   ]
  },
  {
   "cell_type": "markdown",
   "metadata": {},
   "source": [
    "De aqui en adelante sucedia lo mismo para matrices de tamaño superior, lo cual impidio el analisis correcto de mpi y su comparacion con otros metodos de paralización"
   ]
  }
 ],
 "metadata": {
  "kernelspec": {
   "display_name": "Python 3",
   "language": "python",
   "name": "python3"
  },
  "language_info": {
   "codemirror_mode": {
    "name": "ipython",
    "version": 3
   },
   "file_extension": ".py",
   "mimetype": "text/x-python",
   "name": "python",
   "nbconvert_exporter": "python",
   "pygments_lexer": "ipython3",
   "version": "3.7.3"
  }
 },
 "nbformat": 4,
 "nbformat_minor": 4
}
